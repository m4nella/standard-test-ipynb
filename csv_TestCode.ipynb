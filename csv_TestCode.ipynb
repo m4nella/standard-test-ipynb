{
 "cells": [
  {
   "cell_type": "code",
   "execution_count": 1,
   "id": "d5b835b6",
   "metadata": {},
   "outputs": [],
   "source": [
    "# Importa as bibliotecas\n",
    "import pandas as pd\n",
    "import os.path\n",
    "\n",
    "ssesso = 'QLQR123'\n",
    "DEALER = 'sim'\n",
    "path_export = r'caminho\\pasta\\basebi'"
   ]
  },
  {
   "cell_type": "code",
   "execution_count": 2,
   "id": "570ce9fe",
   "metadata": {},
   "outputs": [],
   "source": [
    "# Leitura das variáveis\n",
    "df_var = pd.read_excel('caminho\\pasta\\excelntratado', \n",
    "                       sheet_name='namekk', dtype={'Variable': str, 'Value': str})\n",
    "\n",
    "df_var = df_var.transpose()\n",
    "df_var.columns = df_var.iloc[0]\n",
    "df_var = df_var[1:]\n",
    "\n",
    "# Mês de referência para cálculo do yrtodt\n",
    "prior_year = int(df_var['prior_year'].iloc[0])\n",
    "calendar_year = int(df_var['calendar_year'].iloc[0])\n",
    "MES_ATUAL = int(df_var['MES_ATUAL'].iloc[0])\n",
    "\n",
    "# Definição das pastas e dos arquivos\n",
    "pasta_output = str(df_var['pasta_output'][0])\n",
    "pasta_reporte = str(df_var['pasta_reporte'][0])\n",
    "pasta_raiz = str(df_var['pasta_raiz'][0])\n",
    "pasta_PBI = str('caminho\\pasta\\powerbi')\n",
    "path_not_assigned = r'caminho\\pasta\\not assigned'\n",
    "\n",
    "# Define as demais pastas do sistema\n",
    "pasta_celaut = pasta_raiz + '1. Dados sell out'"
   ]
  },
  {
   "cell_type": "code",
   "execution_count": 3,
   "id": "0ef1bef4",
   "metadata": {},
   "outputs": [
    {
     "data": {
      "text/plain": [
       "9"
      ]
     },
     "execution_count": 3,
     "metadata": {},
     "output_type": "execute_result"
    }
   ],
   "source": [
    "MES_ATUAL"
   ]
  },
  {
   "cell_type": "code",
   "execution_count": null,
   "id": "eb671a89",
   "metadata": {},
   "outputs": [],
   "source": [
    "df_lm = pd.read_excel(pasta_celaut + rf'\\loja\\lojayrtodt{MES_ATUAL}.xlsx', header=0, sheet_name=str('LDM'))\n",
    "df_lm.head(3)"
   ]
  },
  {
   "cell_type": "code",
   "execution_count": null,
   "id": "dd979a69",
   "metadata": {},
   "outputs": [],
   "source": [
    "df_catalogo = pd.read_excel(pasta_celaut + r'\\loja\\catalogoldm.xlsx',usecols=['Cód. Item Fornecedor', 'BU', 'Segmento', 'Cordless'])\n",
    "df_catalogo.head(3)"
   ]
  },
  {
   "cell_type": "code",
   "execution_count": null,
   "id": "a542f319",
   "metadata": {},
   "outputs": [],
   "source": [
    "df_lm = pd.merge(df_lm, df_catalogo, how='left')\n",
    "df_lm.tail(3)"
   ]
  },
  {
   "cell_type": "code",
   "execution_count": 7,
   "id": "4dee1cb8",
   "metadata": {},
   "outputs": [],
   "source": [
    "def ajustar_ultimos_digitos(x):\n",
    "    x = str(x)\n",
    "    unittokk = 'Not assigned'\n",
    "    \n",
    "    if len(x)>=10:\n",
    "        if x[-4::]=='-000':\n",
    "            unittokk = x[:-4]\n",
    "        elif len(x) == 10:\n",
    "            unittokk = str(x)\n",
    "        else:\n",
    "            x = 'Not assigned'\n",
    "    else:\n",
    "        x = 'Not assigned'\n",
    "    \n",
    "    return unittokk"
   ]
  },
  {
   "cell_type": "code",
   "execution_count": null,
   "id": "3f0c90a6",
   "metadata": {
    "scrolled": true
   },
   "outputs": [],
   "source": [
    "# Tratamento das variáveis\n",
    "df_lm['Units'] = df_lm['Qtd. 2021'].fillna(0).astype(int)\n",
    "df_lm['Sales'] = df_lm['Fat. 2021'].fillna(0).astype(float)\n",
    "\n",
    "df_lm['Cód. Item Fornecedor'] = df_lm['Cód. Item Fornecedor'].replace('0', 'Not assigned')\n",
    "df_lm['unittokk'] = df_lm['Cód. Item Fornecedor'].apply(lambda x: str(x).replace('.','').replace('-000', ''))\n",
    "df_lm['unittokk'] = df_lm['unittokk'].apply(lambda x: ajustar_unittokk(x))\n",
    "\n",
    "df_lm['Product'] = df_lm['Product'].astype(str)\n",
    "df_lm['Year'] = df_lm['Data'].apply(lambda x: int(str(x)[0:4]))\n",
    "df_lm['Month'] = df_lm['Data'].apply(lambda x: int(str(x)[5:7]))\n",
    "df_lm['ssesso'] = ssesso\n",
    "df_lm['Type'] = 'Online'\n",
    "df_lm['Dealer'] = DEALER\n",
    "df_lm['Segment'] = df_lm['Segmento']\n",
    "df_lm['Stock'] = 0\n",
    "df_lm['Place'] = 'Online'\n",
    "\n",
    "df_lm_clean = df_lm[['ssesso', 'Dealer', 'Place', 'Type', 'Product', 'unittokk', 'BU', 'Segment', 'Cordless', 'Year', 'Month', 'Units', 'Sales', 'Stock']]\n",
    "\n",
    "df_lm_clean['unittokk'].fillna('Not assigned',inplace=True)\n",
    "df_lm_clean['Product'].fillna('Not assigned',inplace=True)\n",
    "df_lm_clean['Sales'].fillna(0,inplace=True)\n",
    "df_lm_clean['Units'].fillna(0,inplace=True)\n",
    "df_lm_clean['Stock'].fillna(0,inplace=True)\n",
    "df_lm_clean['Segment'].fillna('Not assigned',inplace=True)\n",
    "df_lm_clean['Cordless'].fillna('Not assigned',inplace=True)\n",
    "df_lm_clean['BU'].fillna('Not assigned',inplace=True)\n",
    "df_lm_clean.tail(3)"
   ]
  },
  {
   "cell_type": "code",
   "execution_count": null,
   "id": "b0203736",
   "metadata": {},
   "outputs": [],
   "source": [
    "df_faltantes = df_lm[df_lm['unittokk']=='Not assigned']\n",
    "df_faltantes.reset_index(drop=True , inplace=True)\n",
    "df_faltantes.drop_duplicates(subset=['Cód. Produto', 'EAN'],inplace=True)\n",
    "df_faltantes.reset_index(drop=True, inplace=True)\n",
    "df_faltantes = df_faltantes[['Cód. Produto', 'EAN', 'Product']]\n",
    "df_faltantes.to_excel(path_not_assigned+r'\\not assigned da loja.xlsx', index=False)\n",
    "\n"
   ]
  },
  {
   "cell_type": "code",
   "execution_count": 10,
   "id": "411cc34c",
   "metadata": {},
   "outputs": [
    {
     "name": "stdout",
     "output_type": "stream",
     "text": [
      "1899038.1300000001\n"
     ]
    }
   ],
   "source": [
    "teste = df_lm_clean.query(\"Year == 2023 & Month == 9\")\n",
    "print(teste['Sales'].sum())"
   ]
  },
  {
   "cell_type": "code",
   "execution_count": 11,
   "id": "9236b8f5",
   "metadata": {},
   "outputs": [],
   "source": [
    "df_lm_clean.to_csv(r'caminho\\do\\csv', sep=';', decimal=',', index=False, encoding=\"utf-8-sig\")"
   ]
  }
 ],
 "metadata": {
  "kernelspec": {
   "display_name": "Python 3 (ipykernel)",
   "language": "python",
   "name": "python3"
  },
  "language_info": {
   "codemirror_mode": {
    "name": "ipython",
    "version": 3
   },
   "file_extension": ".py",
   "mimetype": "text/x-python",
   "name": "python",
   "nbconvert_exporter": "python",
   "pygments_lexer": "ipython3",
   "version": "3.10.7"
  },
  "vscode": {
   "interpreter": {
    "hash": "d6fed25b041c778c0af8efa99e2cd592f237908b7d94e960cbba5efbc9b3239e"
   }
  }
 },
 "nbformat": 4,
 "nbformat_minor": 5
}
